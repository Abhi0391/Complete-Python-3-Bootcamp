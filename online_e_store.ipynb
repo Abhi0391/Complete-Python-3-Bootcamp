{
  "nbformat": 4,
  "nbformat_minor": 0,
  "metadata": {
    "colab": {
      "provenance": [],
      "authorship_tag": "ABX9TyPsn9WozeilJS0RMJhmYaKp",
      "include_colab_link": true
    },
    "kernelspec": {
      "name": "python3",
      "display_name": "Python 3"
    },
    "language_info": {
      "name": "python"
    }
  },
  "cells": [
    {
      "cell_type": "markdown",
      "metadata": {
        "id": "view-in-github",
        "colab_type": "text"
      },
      "source": [
        "<a href=\"https://colab.research.google.com/github/Abhi0391/Complete-Python-3-Bootcamp/blob/master/online_e_store.ipynb\" target=\"_parent\"><img src=\"https://colab.research.google.com/assets/colab-badge.svg\" alt=\"Open In Colab\"/></a>"
      ]
    },
    {
      "cell_type": "code",
      "execution_count": null,
      "metadata": {
        "colab": {
          "base_uri": "https://localhost:8080/"
        },
        "id": "MBQGBnH72Yl8",
        "outputId": "8676fef4-967a-4cb9-dd13-607a0f156582"
      },
      "outputs": [
        {
          "output_type": "stream",
          "name": "stdout",
          "text": [
            "Mounted at /content/drive\n"
          ]
        }
      ],
      "source": [
        "from google.colab import drive\n",
        "drive.mount('/content/drive')"
      ]
    },
    {
      "cell_type": "code",
      "source": [
        "import numpy as np\n",
        "import pandas as pd\n",
        "import seaborn as sns\n",
        "import matplotlib.pyplot as plt\n",
        "import math as m"
      ],
      "metadata": {
        "id": "-9DntyO3SObx"
      },
      "execution_count": null,
      "outputs": []
    },
    {
      "cell_type": "code",
      "source": [
        "from scipy.stats import norm"
      ],
      "metadata": {
        "id": "a8GAlUK1h69R"
      },
      "execution_count": null,
      "outputs": []
    },
    {
      "cell_type": "code",
      "source": [
        "#import matplotlib_inline\n",
        "#matplotlib_inline.backend_inline.set_matplotlib_formats('svg')\n",
        "%matplotlib inline"
      ],
      "metadata": {
        "id": "WT-TP6rH6NZ2"
      },
      "execution_count": null,
      "outputs": []
    },
    {
      "cell_type": "markdown",
      "source": [
        "**Features Description**\n",
        "\n",
        "● User_ID: User ID\n",
        "\n",
        "● Product_ID: Product ID\n",
        "\n",
        "● Gender: Sex of User\n",
        "\n",
        "● Age: Age in bins\n",
        "\n",
        "● Occupation: Occupation(Masked)\n",
        "\n",
        "● City_Category: Category of the City (A,B,C)\n",
        "\n",
        "● StayInCurrentCityYears: Number of years stay in current city\n",
        "\n",
        "● Marital_Status: Marital Status\n",
        "\n",
        "● ProductCategory: Product Category (Masked)\n",
        "\n",
        "● Purchase: Purchase Amount"
      ],
      "metadata": {
        "id": "FPziZrwlWJTf"
      }
    },
    {
      "cell_type": "code",
      "source": [
        "path = '/content/drive/MyDrive/CSV files/walmart_data.csv'\n",
        "df = pd.read_csv(path)"
      ],
      "metadata": {
        "id": "dcERL0WzRUXE"
      },
      "execution_count": null,
      "outputs": []
    },
    {
      "cell_type": "code",
      "source": [
        "df.head()"
      ],
      "metadata": {
        "colab": {
          "base_uri": "https://localhost:8080/",
          "height": 206
        },
        "id": "18qp1K49RjeA",
        "outputId": "d1eda85f-db63-4298-e09a-04484a3b6c7a"
      },
      "execution_count": null,
      "outputs": [
        {
          "output_type": "execute_result",
          "data": {
            "text/plain": [
              "   User_ID Product_ID Gender   Age  Occupation City_Category  \\\n",
              "0  1000001  P00069042      F  0-17          10             A   \n",
              "1  1000001  P00248942      F  0-17          10             A   \n",
              "2  1000001  P00087842      F  0-17          10             A   \n",
              "3  1000001  P00085442      F  0-17          10             A   \n",
              "4  1000002  P00285442      M   55+          16             C   \n",
              "\n",
              "  Stay_In_Current_City_Years  Marital_Status  Product_Category  Purchase  \n",
              "0                          2               0                 3      8370  \n",
              "1                          2               0                 1     15200  \n",
              "2                          2               0                12      1422  \n",
              "3                          2               0                12      1057  \n",
              "4                         4+               0                 8      7969  "
            ],
            "text/html": [
              "\n",
              "  <div id=\"df-d7dcf568-9f55-417d-9914-4aac05fd6d68\">\n",
              "    <div class=\"colab-df-container\">\n",
              "      <div>\n",
              "<style scoped>\n",
              "    .dataframe tbody tr th:only-of-type {\n",
              "        vertical-align: middle;\n",
              "    }\n",
              "\n",
              "    .dataframe tbody tr th {\n",
              "        vertical-align: top;\n",
              "    }\n",
              "\n",
              "    .dataframe thead th {\n",
              "        text-align: right;\n",
              "    }\n",
              "</style>\n",
              "<table border=\"1\" class=\"dataframe\">\n",
              "  <thead>\n",
              "    <tr style=\"text-align: right;\">\n",
              "      <th></th>\n",
              "      <th>User_ID</th>\n",
              "      <th>Product_ID</th>\n",
              "      <th>Gender</th>\n",
              "      <th>Age</th>\n",
              "      <th>Occupation</th>\n",
              "      <th>City_Category</th>\n",
              "      <th>Stay_In_Current_City_Years</th>\n",
              "      <th>Marital_Status</th>\n",
              "      <th>Product_Category</th>\n",
              "      <th>Purchase</th>\n",
              "    </tr>\n",
              "  </thead>\n",
              "  <tbody>\n",
              "    <tr>\n",
              "      <th>0</th>\n",
              "      <td>1000001</td>\n",
              "      <td>P00069042</td>\n",
              "      <td>F</td>\n",
              "      <td>0-17</td>\n",
              "      <td>10</td>\n",
              "      <td>A</td>\n",
              "      <td>2</td>\n",
              "      <td>0</td>\n",
              "      <td>3</td>\n",
              "      <td>8370</td>\n",
              "    </tr>\n",
              "    <tr>\n",
              "      <th>1</th>\n",
              "      <td>1000001</td>\n",
              "      <td>P00248942</td>\n",
              "      <td>F</td>\n",
              "      <td>0-17</td>\n",
              "      <td>10</td>\n",
              "      <td>A</td>\n",
              "      <td>2</td>\n",
              "      <td>0</td>\n",
              "      <td>1</td>\n",
              "      <td>15200</td>\n",
              "    </tr>\n",
              "    <tr>\n",
              "      <th>2</th>\n",
              "      <td>1000001</td>\n",
              "      <td>P00087842</td>\n",
              "      <td>F</td>\n",
              "      <td>0-17</td>\n",
              "      <td>10</td>\n",
              "      <td>A</td>\n",
              "      <td>2</td>\n",
              "      <td>0</td>\n",
              "      <td>12</td>\n",
              "      <td>1422</td>\n",
              "    </tr>\n",
              "    <tr>\n",
              "      <th>3</th>\n",
              "      <td>1000001</td>\n",
              "      <td>P00085442</td>\n",
              "      <td>F</td>\n",
              "      <td>0-17</td>\n",
              "      <td>10</td>\n",
              "      <td>A</td>\n",
              "      <td>2</td>\n",
              "      <td>0</td>\n",
              "      <td>12</td>\n",
              "      <td>1057</td>\n",
              "    </tr>\n",
              "    <tr>\n",
              "      <th>4</th>\n",
              "      <td>1000002</td>\n",
              "      <td>P00285442</td>\n",
              "      <td>M</td>\n",
              "      <td>55+</td>\n",
              "      <td>16</td>\n",
              "      <td>C</td>\n",
              "      <td>4+</td>\n",
              "      <td>0</td>\n",
              "      <td>8</td>\n",
              "      <td>7969</td>\n",
              "    </tr>\n",
              "  </tbody>\n",
              "</table>\n",
              "</div>\n",
              "      <button class=\"colab-df-convert\" onclick=\"convertToInteractive('df-d7dcf568-9f55-417d-9914-4aac05fd6d68')\"\n",
              "              title=\"Convert this dataframe to an interactive table.\"\n",
              "              style=\"display:none;\">\n",
              "        \n",
              "  <svg xmlns=\"http://www.w3.org/2000/svg\" height=\"24px\"viewBox=\"0 0 24 24\"\n",
              "       width=\"24px\">\n",
              "    <path d=\"M0 0h24v24H0V0z\" fill=\"none\"/>\n",
              "    <path d=\"M18.56 5.44l.94 2.06.94-2.06 2.06-.94-2.06-.94-.94-2.06-.94 2.06-2.06.94zm-11 1L8.5 8.5l.94-2.06 2.06-.94-2.06-.94L8.5 2.5l-.94 2.06-2.06.94zm10 10l.94 2.06.94-2.06 2.06-.94-2.06-.94-.94-2.06-.94 2.06-2.06.94z\"/><path d=\"M17.41 7.96l-1.37-1.37c-.4-.4-.92-.59-1.43-.59-.52 0-1.04.2-1.43.59L10.3 9.45l-7.72 7.72c-.78.78-.78 2.05 0 2.83L4 21.41c.39.39.9.59 1.41.59.51 0 1.02-.2 1.41-.59l7.78-7.78 2.81-2.81c.8-.78.8-2.07 0-2.86zM5.41 20L4 18.59l7.72-7.72 1.47 1.35L5.41 20z\"/>\n",
              "  </svg>\n",
              "      </button>\n",
              "      \n",
              "  <style>\n",
              "    .colab-df-container {\n",
              "      display:flex;\n",
              "      flex-wrap:wrap;\n",
              "      gap: 12px;\n",
              "    }\n",
              "\n",
              "    .colab-df-convert {\n",
              "      background-color: #E8F0FE;\n",
              "      border: none;\n",
              "      border-radius: 50%;\n",
              "      cursor: pointer;\n",
              "      display: none;\n",
              "      fill: #1967D2;\n",
              "      height: 32px;\n",
              "      padding: 0 0 0 0;\n",
              "      width: 32px;\n",
              "    }\n",
              "\n",
              "    .colab-df-convert:hover {\n",
              "      background-color: #E2EBFA;\n",
              "      box-shadow: 0px 1px 2px rgba(60, 64, 67, 0.3), 0px 1px 3px 1px rgba(60, 64, 67, 0.15);\n",
              "      fill: #174EA6;\n",
              "    }\n",
              "\n",
              "    [theme=dark] .colab-df-convert {\n",
              "      background-color: #3B4455;\n",
              "      fill: #D2E3FC;\n",
              "    }\n",
              "\n",
              "    [theme=dark] .colab-df-convert:hover {\n",
              "      background-color: #434B5C;\n",
              "      box-shadow: 0px 1px 3px 1px rgba(0, 0, 0, 0.15);\n",
              "      filter: drop-shadow(0px 1px 2px rgba(0, 0, 0, 0.3));\n",
              "      fill: #FFFFFF;\n",
              "    }\n",
              "  </style>\n",
              "\n",
              "      <script>\n",
              "        const buttonEl =\n",
              "          document.querySelector('#df-d7dcf568-9f55-417d-9914-4aac05fd6d68 button.colab-df-convert');\n",
              "        buttonEl.style.display =\n",
              "          google.colab.kernel.accessAllowed ? 'block' : 'none';\n",
              "\n",
              "        async function convertToInteractive(key) {\n",
              "          const element = document.querySelector('#df-d7dcf568-9f55-417d-9914-4aac05fd6d68');\n",
              "          const dataTable =\n",
              "            await google.colab.kernel.invokeFunction('convertToInteractive',\n",
              "                                                     [key], {});\n",
              "          if (!dataTable) return;\n",
              "\n",
              "          const docLinkHtml = 'Like what you see? Visit the ' +\n",
              "            '<a target=\"_blank\" href=https://colab.research.google.com/notebooks/data_table.ipynb>data table notebook</a>'\n",
              "            + ' to learn more about interactive tables.';\n",
              "          element.innerHTML = '';\n",
              "          dataTable['output_type'] = 'display_data';\n",
              "          await google.colab.output.renderOutput(dataTable, element);\n",
              "          const docLink = document.createElement('div');\n",
              "          docLink.innerHTML = docLinkHtml;\n",
              "          element.appendChild(docLink);\n",
              "        }\n",
              "      </script>\n",
              "    </div>\n",
              "  </div>\n",
              "  "
            ]
          },
          "metadata": {},
          "execution_count": 13
        }
      ]
    },
    {
      "cell_type": "code",
      "source": [
        "df.shape"
      ],
      "metadata": {
        "colab": {
          "base_uri": "https://localhost:8080/"
        },
        "id": "k0qZtWTKgXCi",
        "outputId": "2cdfd8e3-71ba-4de7-fd16-70369ea1e15f"
      },
      "execution_count": null,
      "outputs": [
        {
          "output_type": "execute_result",
          "data": {
            "text/plain": [
              "(550068, 10)"
            ]
          },
          "metadata": {},
          "execution_count": 14
        }
      ]
    },
    {
      "cell_type": "code",
      "source": [
        "df.describe()"
      ],
      "metadata": {
        "colab": {
          "base_uri": "https://localhost:8080/",
          "height": 301
        },
        "id": "aLu2qTjBelhV",
        "outputId": "cec797f9-88d7-4f85-b703-08e6f5a2dd03"
      },
      "execution_count": null,
      "outputs": [
        {
          "output_type": "execute_result",
          "data": {
            "text/plain": [
              "            User_ID     Occupation  Marital_Status  Product_Category  \\\n",
              "count  5.500680e+05  550068.000000   550068.000000     550068.000000   \n",
              "mean   1.003029e+06       8.076707        0.409653          5.404270   \n",
              "std    1.727592e+03       6.522660        0.491770          3.936211   \n",
              "min    1.000001e+06       0.000000        0.000000          1.000000   \n",
              "25%    1.001516e+06       2.000000        0.000000          1.000000   \n",
              "50%    1.003077e+06       7.000000        0.000000          5.000000   \n",
              "75%    1.004478e+06      14.000000        1.000000          8.000000   \n",
              "max    1.006040e+06      20.000000        1.000000         20.000000   \n",
              "\n",
              "            Purchase  \n",
              "count  550068.000000  \n",
              "mean     9263.968713  \n",
              "std      5023.065394  \n",
              "min        12.000000  \n",
              "25%      5823.000000  \n",
              "50%      8047.000000  \n",
              "75%     12054.000000  \n",
              "max     23961.000000  "
            ],
            "text/html": [
              "\n",
              "  <div id=\"df-2ad60925-64c2-44c8-a7e0-2eb1098772be\">\n",
              "    <div class=\"colab-df-container\">\n",
              "      <div>\n",
              "<style scoped>\n",
              "    .dataframe tbody tr th:only-of-type {\n",
              "        vertical-align: middle;\n",
              "    }\n",
              "\n",
              "    .dataframe tbody tr th {\n",
              "        vertical-align: top;\n",
              "    }\n",
              "\n",
              "    .dataframe thead th {\n",
              "        text-align: right;\n",
              "    }\n",
              "</style>\n",
              "<table border=\"1\" class=\"dataframe\">\n",
              "  <thead>\n",
              "    <tr style=\"text-align: right;\">\n",
              "      <th></th>\n",
              "      <th>User_ID</th>\n",
              "      <th>Occupation</th>\n",
              "      <th>Marital_Status</th>\n",
              "      <th>Product_Category</th>\n",
              "      <th>Purchase</th>\n",
              "    </tr>\n",
              "  </thead>\n",
              "  <tbody>\n",
              "    <tr>\n",
              "      <th>count</th>\n",
              "      <td>5.500680e+05</td>\n",
              "      <td>550068.000000</td>\n",
              "      <td>550068.000000</td>\n",
              "      <td>550068.000000</td>\n",
              "      <td>550068.000000</td>\n",
              "    </tr>\n",
              "    <tr>\n",
              "      <th>mean</th>\n",
              "      <td>1.003029e+06</td>\n",
              "      <td>8.076707</td>\n",
              "      <td>0.409653</td>\n",
              "      <td>5.404270</td>\n",
              "      <td>9263.968713</td>\n",
              "    </tr>\n",
              "    <tr>\n",
              "      <th>std</th>\n",
              "      <td>1.727592e+03</td>\n",
              "      <td>6.522660</td>\n",
              "      <td>0.491770</td>\n",
              "      <td>3.936211</td>\n",
              "      <td>5023.065394</td>\n",
              "    </tr>\n",
              "    <tr>\n",
              "      <th>min</th>\n",
              "      <td>1.000001e+06</td>\n",
              "      <td>0.000000</td>\n",
              "      <td>0.000000</td>\n",
              "      <td>1.000000</td>\n",
              "      <td>12.000000</td>\n",
              "    </tr>\n",
              "    <tr>\n",
              "      <th>25%</th>\n",
              "      <td>1.001516e+06</td>\n",
              "      <td>2.000000</td>\n",
              "      <td>0.000000</td>\n",
              "      <td>1.000000</td>\n",
              "      <td>5823.000000</td>\n",
              "    </tr>\n",
              "    <tr>\n",
              "      <th>50%</th>\n",
              "      <td>1.003077e+06</td>\n",
              "      <td>7.000000</td>\n",
              "      <td>0.000000</td>\n",
              "      <td>5.000000</td>\n",
              "      <td>8047.000000</td>\n",
              "    </tr>\n",
              "    <tr>\n",
              "      <th>75%</th>\n",
              "      <td>1.004478e+06</td>\n",
              "      <td>14.000000</td>\n",
              "      <td>1.000000</td>\n",
              "      <td>8.000000</td>\n",
              "      <td>12054.000000</td>\n",
              "    </tr>\n",
              "    <tr>\n",
              "      <th>max</th>\n",
              "      <td>1.006040e+06</td>\n",
              "      <td>20.000000</td>\n",
              "      <td>1.000000</td>\n",
              "      <td>20.000000</td>\n",
              "      <td>23961.000000</td>\n",
              "    </tr>\n",
              "  </tbody>\n",
              "</table>\n",
              "</div>\n",
              "      <button class=\"colab-df-convert\" onclick=\"convertToInteractive('df-2ad60925-64c2-44c8-a7e0-2eb1098772be')\"\n",
              "              title=\"Convert this dataframe to an interactive table.\"\n",
              "              style=\"display:none;\">\n",
              "        \n",
              "  <svg xmlns=\"http://www.w3.org/2000/svg\" height=\"24px\"viewBox=\"0 0 24 24\"\n",
              "       width=\"24px\">\n",
              "    <path d=\"M0 0h24v24H0V0z\" fill=\"none\"/>\n",
              "    <path d=\"M18.56 5.44l.94 2.06.94-2.06 2.06-.94-2.06-.94-.94-2.06-.94 2.06-2.06.94zm-11 1L8.5 8.5l.94-2.06 2.06-.94-2.06-.94L8.5 2.5l-.94 2.06-2.06.94zm10 10l.94 2.06.94-2.06 2.06-.94-2.06-.94-.94-2.06-.94 2.06-2.06.94z\"/><path d=\"M17.41 7.96l-1.37-1.37c-.4-.4-.92-.59-1.43-.59-.52 0-1.04.2-1.43.59L10.3 9.45l-7.72 7.72c-.78.78-.78 2.05 0 2.83L4 21.41c.39.39.9.59 1.41.59.51 0 1.02-.2 1.41-.59l7.78-7.78 2.81-2.81c.8-.78.8-2.07 0-2.86zM5.41 20L4 18.59l7.72-7.72 1.47 1.35L5.41 20z\"/>\n",
              "  </svg>\n",
              "      </button>\n",
              "      \n",
              "  <style>\n",
              "    .colab-df-container {\n",
              "      display:flex;\n",
              "      flex-wrap:wrap;\n",
              "      gap: 12px;\n",
              "    }\n",
              "\n",
              "    .colab-df-convert {\n",
              "      background-color: #E8F0FE;\n",
              "      border: none;\n",
              "      border-radius: 50%;\n",
              "      cursor: pointer;\n",
              "      display: none;\n",
              "      fill: #1967D2;\n",
              "      height: 32px;\n",
              "      padding: 0 0 0 0;\n",
              "      width: 32px;\n",
              "    }\n",
              "\n",
              "    .colab-df-convert:hover {\n",
              "      background-color: #E2EBFA;\n",
              "      box-shadow: 0px 1px 2px rgba(60, 64, 67, 0.3), 0px 1px 3px 1px rgba(60, 64, 67, 0.15);\n",
              "      fill: #174EA6;\n",
              "    }\n",
              "\n",
              "    [theme=dark] .colab-df-convert {\n",
              "      background-color: #3B4455;\n",
              "      fill: #D2E3FC;\n",
              "    }\n",
              "\n",
              "    [theme=dark] .colab-df-convert:hover {\n",
              "      background-color: #434B5C;\n",
              "      box-shadow: 0px 1px 3px 1px rgba(0, 0, 0, 0.15);\n",
              "      filter: drop-shadow(0px 1px 2px rgba(0, 0, 0, 0.3));\n",
              "      fill: #FFFFFF;\n",
              "    }\n",
              "  </style>\n",
              "\n",
              "      <script>\n",
              "        const buttonEl =\n",
              "          document.querySelector('#df-2ad60925-64c2-44c8-a7e0-2eb1098772be button.colab-df-convert');\n",
              "        buttonEl.style.display =\n",
              "          google.colab.kernel.accessAllowed ? 'block' : 'none';\n",
              "\n",
              "        async function convertToInteractive(key) {\n",
              "          const element = document.querySelector('#df-2ad60925-64c2-44c8-a7e0-2eb1098772be');\n",
              "          const dataTable =\n",
              "            await google.colab.kernel.invokeFunction('convertToInteractive',\n",
              "                                                     [key], {});\n",
              "          if (!dataTable) return;\n",
              "\n",
              "          const docLinkHtml = 'Like what you see? Visit the ' +\n",
              "            '<a target=\"_blank\" href=https://colab.research.google.com/notebooks/data_table.ipynb>data table notebook</a>'\n",
              "            + ' to learn more about interactive tables.';\n",
              "          element.innerHTML = '';\n",
              "          dataTable['output_type'] = 'display_data';\n",
              "          await google.colab.output.renderOutput(dataTable, element);\n",
              "          const docLink = document.createElement('div');\n",
              "          docLink.innerHTML = docLinkHtml;\n",
              "          element.appendChild(docLink);\n",
              "        }\n",
              "      </script>\n",
              "    </div>\n",
              "  </div>\n",
              "  "
            ]
          },
          "metadata": {},
          "execution_count": 15
        }
      ]
    },
    {
      "cell_type": "code",
      "source": [
        "df.info()"
      ],
      "metadata": {
        "colab": {
          "base_uri": "https://localhost:8080/"
        },
        "id": "BIQc4dDXgMhT",
        "outputId": "f3917930-2185-44d8-856d-fda195841106"
      },
      "execution_count": null,
      "outputs": [
        {
          "output_type": "stream",
          "name": "stdout",
          "text": [
            "<class 'pandas.core.frame.DataFrame'>\n",
            "RangeIndex: 550068 entries, 0 to 550067\n",
            "Data columns (total 10 columns):\n",
            " #   Column                      Non-Null Count   Dtype \n",
            "---  ------                      --------------   ----- \n",
            " 0   User_ID                     550068 non-null  int64 \n",
            " 1   Product_ID                  550068 non-null  object\n",
            " 2   Gender                      550068 non-null  object\n",
            " 3   Age                         550068 non-null  object\n",
            " 4   Occupation                  550068 non-null  int64 \n",
            " 5   City_Category               550068 non-null  object\n",
            " 6   Stay_In_Current_City_Years  550068 non-null  object\n",
            " 7   Marital_Status              550068 non-null  int64 \n",
            " 8   Product_Category            550068 non-null  int64 \n",
            " 9   Purchase                    550068 non-null  int64 \n",
            "dtypes: int64(5), object(5)\n",
            "memory usage: 42.0+ MB\n"
          ]
        }
      ]
    },
    {
      "cell_type": "code",
      "source": [
        "df.isnull().sum() / len(df)*100"
      ],
      "metadata": {
        "colab": {
          "base_uri": "https://localhost:8080/"
        },
        "id": "AvCBgmeChJ8C",
        "outputId": "2827b808-75fa-4f05-bed2-55e994a8dfa2"
      },
      "execution_count": null,
      "outputs": [
        {
          "output_type": "execute_result",
          "data": {
            "text/plain": [
              "User_ID                       0.0\n",
              "Product_ID                    0.0\n",
              "Gender                        0.0\n",
              "Age                           0.0\n",
              "Occupation                    0.0\n",
              "City_Category                 0.0\n",
              "Stay_In_Current_City_Years    0.0\n",
              "Marital_Status                0.0\n",
              "Product_Category              0.0\n",
              "Purchase                      0.0\n",
              "dtype: float64"
            ]
          },
          "metadata": {},
          "execution_count": 17
        }
      ]
    },
    {
      "cell_type": "code",
      "source": [
        "plt.figure(figsize=(7,5))\n",
        "plt.subplot(1,1,1)\n",
        "\n",
        "sns.boxplot(data=df,x='Purchase')\n",
        "plt.show()\n",
        "\n",
        "\n",
        "sns.boxplot(data=df,x='Product_Category')\n",
        "plt.show()\n"
      ],
      "metadata": {
        "colab": {
          "base_uri": "https://localhost:8080/",
          "height": 597
        },
        "id": "VNMBafi2ZYvh",
        "outputId": "126c7017-31d3-4bb8-9bda-cdb992fc3b72"
      },
      "execution_count": null,
      "outputs": [
        {
          "output_type": "display_data",
          "data": {
            "text/plain": [
              "<Figure size 504x360 with 1 Axes>"
            ],
            "image/png": "[encoded data removed]"
          },
          "metadata": {
            "needs_background": "light"
          }
        },
        {
          "output_type": "display_data",
          "data": {
            "text/plain": [
              "<Figure size 432x288 with 1 Axes>"
            ],
            "image/png": "[encoded data removed]"
          },
          "metadata": {
            "needs_background": "light"
          }
        }
      ]
    },
    {
      "cell_type": "code",
      "source": [
        "sns.countplot(x='Gender',data=df)\n",
        "plt.show()"
      ],
      "metadata": {
        "colab": {
          "base_uri": "https://localhost:8080/",
          "height": 279
        },
        "id": "Rwf9SXD6lAqt",
        "outputId": "c96e8ce7-a3dd-4375-8061-0856514c6efb"
      },
      "execution_count": null,
      "outputs": [
        {
          "output_type": "display_data",
          "data": {
            "text/plain": [
              "<Figure size 432x288 with 1 Axes>"
            ],
            "image/png": "[encoded data removed]"
          },
          "metadata": {
            "needs_background": "light"
          }
        }
      ]
    },
    {
      "cell_type": "code",
      "source": [
        "plt.figure(figsize=(10,5))\n",
        "plt.subplot(1,1,1)\n",
        "\n",
        "sns.boxplot(x='Gender',y='Purchase',data=df)\n",
        "plt.show()\n",
        "\n",
        "plt.figure(figsize=(10,5))\n",
        "plt.subplot(1,1,1)\n",
        "\n",
        "sns.boxplot(x='Marital_Status',y='Purchase',data=df)\n",
        "plt.show()"
      ],
      "metadata": {
        "colab": {
          "base_uri": "https://localhost:8080/",
          "height": 656
        },
        "id": "xy0-9vFsw_et",
        "outputId": "5a49702e-754c-4155-fa8e-777be6b6fbbc"
      },
      "execution_count": null,
      "outputs": [
        {
          "output_type": "display_data",
          "data": {
            "text/plain": [
              "<Figure size 720x360 with 1 Axes>"
            ],
            "image/png": "[encoded data removed]"
          },
          "metadata": {
            "needs_background": "light"
          }
        },
        {
          "output_type": "display_data",
          "data": {
            "text/plain": [
              "<Figure size 720x360 with 1 Axes>"
            ],
            "image/png": "[encoded data removed]"
          },
          "metadata": {
            "needs_background": "light"
          }
        }
      ]
    },
    {
      "cell_type": "markdown",
      "source": [
        "### Median purchase value of male and female customer is almost equal.\n",
        "### There are outliers in the purchase values of male and female customers.\n",
        "### Median purchase value of married and unmarried customer is almost equal.\n",
        "### There are outliers in the purchase values of married and unmarried customer."
      ],
      "metadata": {
        "id": "Pko36MuZbAhR"
      }
    },
    {
      "cell_type": "code",
      "source": [
        "plt.figure(figsize=(10,5))\n",
        "plt.subplot(1,1,1)\n",
        "\n",
        "sns.boxplot(x='Gender',y='Purchase',data=df,hue='City_Category')\n",
        "plt.show()\n",
        "\n",
        "plt.figure(figsize=(10,5))\n",
        "plt.subplot(1,1,1)\n",
        "\n",
        "sns.boxplot(x='Marital_Status',y='Purchase',data=df,hue='City_Category')\n",
        "plt.show()"
      ],
      "metadata": {
        "colab": {
          "base_uri": "https://localhost:8080/",
          "height": 656
        },
        "id": "kIc1nYDH7pZQ",
        "outputId": "5f9b6e0f-29c9-49a9-9cb4-da8e37851934"
      },
      "execution_count": null,
      "outputs": [
        {
          "output_type": "display_data",
          "data": {
            "text/plain": [
              "<Figure size 720x360 with 1 Axes>"
            ],
            "image/png": "[encoded data removed]"
          },
          "metadata": {
            "needs_background": "light"
          }
        },
        {
          "output_type": "display_data",
          "data": {
            "text/plain": [
              "<Figure size 720x360 with 1 Axes>"
            ],
            "image/png": "[encoded data removed]"
          },
          "metadata": {
            "needs_background": "light"
          }
        }
      ]
    },
    {
      "cell_type": "code",
      "source": [
        "df.groupby('Gender')['Purchase'].describe()"
      ],
      "metadata": {
        "colab": {
          "base_uri": "https://localhost:8080/",
          "height": 144
        },
        "id": "mU4Yyujl_-s4",
        "outputId": "f611f4b8-db95-45bc-af60-9a28f5fc262a"
      },
      "execution_count": null,
      "outputs": [
        {
          "output_type": "execute_result",
          "data": {
            "text/plain": [
              "           count         mean          std   min     25%     50%      75%  \\\n",
              "Gender                                                                      \n",
              "F       135809.0  8734.565765  4767.233289  12.0  5433.0  7914.0  11400.0   \n",
              "M       414259.0  9437.526040  5092.186210  12.0  5863.0  8098.0  12454.0   \n",
              "\n",
              "            max  \n",
              "Gender           \n",
              "F       23959.0  \n",
              "M       23961.0  "
            ],
            "text/html": [
              "\n",
              "  <div id=\"df-d0d5e23e-b1e1-4d07-9df4-0597e269d8ed\">\n",
              "    <div class=\"colab-df-container\">\n",
              "      <div>\n",
              "<style scoped>\n",
              "    .dataframe tbody tr th:only-of-type {\n",
              "        vertical-align: middle;\n",
              "    }\n",
              "\n",
              "    .dataframe tbody tr th {\n",
              "        vertical-align: top;\n",
              "    }\n",
              "\n",
              "    .dataframe thead th {\n",
              "        text-align: right;\n",
              "    }\n",
              "</style>\n",
              "<table border=\"1\" class=\"dataframe\">\n",
              "  <thead>\n",
              "    <tr style=\"text-align: right;\">\n",
              "      <th></th>\n",
              "      <th>count</th>\n",
              "      <th>mean</th>\n",
              "      <th>std</th>\n",
              "      <th>min</th>\n",
              "      <th>25%</th>\n",
              "      <th>50%</th>\n",
              "      <th>75%</th>\n",
              "      <th>max</th>\n",
              "    </tr>\n",
              "    <tr>\n",
              "      <th>Gender</th>\n",
              "      <th></th>\n",
              "      <th></th>\n",
              "      <th></th>\n",
              "      <th></th>\n",
              "      <th></th>\n",
              "      <th></th>\n",
              "      <th></th>\n",
              "      <th></th>\n",
              "    </tr>\n",
              "  </thead>\n",
              "  <tbody>\n",
              "    <tr>\n",
              "      <th>F</th>\n",
              "      <td>135809.0</td>\n",
              "      <td>8734.565765</td>\n",
              "      <td>4767.233289</td>\n",
              "      <td>12.0</td>\n",
              "      <td>5433.0</td>\n",
              "      <td>7914.0</td>\n",
              "      <td>11400.0</td>\n",
              "      <td>23959.0</td>\n",
              "    </tr>\n",
              "    <tr>\n",
              "      <th>M</th>\n",
              "      <td>414259.0</td>\n",
              "      <td>9437.526040</td>\n",
              "      <td>5092.186210</td>\n",
              "      <td>12.0</td>\n",
              "      <td>5863.0</td>\n",
              "      <td>8098.0</td>\n",
              "      <td>12454.0</td>\n",
              "      <td>23961.0</td>\n",
              "    </tr>\n",
              "  </tbody>\n",
              "</table>\n",
              "</div>\n",
              "      <button class=\"colab-df-convert\" onclick=\"convertToInteractive('df-d0d5e23e-b1e1-4d07-9df4-0597e269d8ed')\"\n",
              "              title=\"Convert this dataframe to an interactive table.\"\n",
              "              style=\"display:none;\">\n",
              "        \n",
              "  <svg xmlns=\"http://www.w3.org/2000/svg\" height=\"24px\"viewBox=\"0 0 24 24\"\n",
              "       width=\"24px\">\n",
              "    <path d=\"M0 0h24v24H0V0z\" fill=\"none\"/>\n",
              "    <path d=\"M18.56 5.44l.94 2.06.94-2.06 2.06-.94-2.06-.94-.94-2.06-.94 2.06-2.06.94zm-11 1L8.5 8.5l.94-2.06 2.06-.94-2.06-.94L8.5 2.5l-.94 2.06-2.06.94zm10 10l.94 2.06.94-2.06 2.06-.94-2.06-.94-.94-2.06-.94 2.06-2.06.94z\"/><path d=\"M17.41 7.96l-1.37-1.37c-.4-.4-.92-.59-1.43-.59-.52 0-1.04.2-1.43.59L10.3 9.45l-7.72 7.72c-.78.78-.78 2.05 0 2.83L4 21.41c.39.39.9.59 1.41.59.51 0 1.02-.2 1.41-.59l7.78-7.78 2.81-2.81c.8-.78.8-2.07 0-2.86zM5.41 20L4 18.59l7.72-7.72 1.47 1.35L5.41 20z\"/>\n",
              "  </svg>\n",
              "      </button>\n",
              "      \n",
              "  <style>\n",
              "    .colab-df-container {\n",
              "      display:flex;\n",
              "      flex-wrap:wrap;\n",
              "      gap: 12px;\n",
              "    }\n",
              "\n",
              "    .colab-df-convert {\n",
              "      background-color: #E8F0FE;\n",
              "      border: none;\n",
              "      border-radius: 50%;\n",
              "      cursor: pointer;\n",
              "      display: none;\n",
              "      fill: #1967D2;\n",
              "      height: 32px;\n",
              "      padding: 0 0 0 0;\n",
              "      width: 32px;\n",
              "    }\n",
              "\n",
              "    .colab-df-convert:hover {\n",
              "      background-color: #E2EBFA;\n",
              "      box-shadow: 0px 1px 2px rgba(60, 64, 67, 0.3), 0px 1px 3px 1px rgba(60, 64, 67, 0.15);\n",
              "      fill: #174EA6;\n",
              "    }\n",
              "\n",
              "    [theme=dark] .colab-df-convert {\n",
              "      background-color: #3B4455;\n",
              "      fill: #D2E3FC;\n",
              "    }\n",
              "\n",
              "    [theme=dark] .colab-df-convert:hover {\n",
              "      background-color: #434B5C;\n",
              "      box-shadow: 0px 1px 3px 1px rgba(0, 0, 0, 0.15);\n",
              "      filter: drop-shadow(0px 1px 2px rgba(0, 0, 0, 0.3));\n",
              "      fill: #FFFFFF;\n",
              "    }\n",
              "  </style>\n",
              "\n",
              "      <script>\n",
              "        const buttonEl =\n",
              "          document.querySelector('#df-d0d5e23e-b1e1-4d07-9df4-0597e269d8ed button.colab-df-convert');\n",
              "        buttonEl.style.display =\n",
              "          google.colab.kernel.accessAllowed ? 'block' : 'none';\n",
              "\n",
              "        async function convertToInteractive(key) {\n",
              "          const element = document.querySelector('#df-d0d5e23e-b1e1-4d07-9df4-0597e269d8ed');\n",
              "          const dataTable =\n",
              "            await google.colab.kernel.invokeFunction('convertToInteractive',\n",
              "                                                     [key], {});\n",
              "          if (!dataTable) return;\n",
              "\n",
              "          const docLinkHtml = 'Like what you see? Visit the ' +\n",
              "            '<a target=\"_blank\" href=https://colab.research.google.com/notebooks/data_table.ipynb>data table notebook</a>'\n",
              "            + ' to learn more about interactive tables.';\n",
              "          element.innerHTML = '';\n",
              "          dataTable['output_type'] = 'display_data';\n",
              "          await google.colab.output.renderOutput(dataTable, element);\n",
              "          const docLink = document.createElement('div');\n",
              "          docLink.innerHTML = docLinkHtml;\n",
              "          element.appendChild(docLink);\n",
              "        }\n",
              "      </script>\n",
              "    </div>\n",
              "  </div>\n",
              "  "
            ]
          },
          "metadata": {},
          "execution_count": 22
        }
      ]
    },
    {
      "cell_type": "code",
      "source": [
        "df.groupby('Marital_Status')['Purchase'].describe()"
      ],
      "metadata": {
        "colab": {
          "base_uri": "https://localhost:8080/",
          "height": 144
        },
        "id": "p7m70iQpFcGN",
        "outputId": "28db07d4-1a4b-46ba-d22d-a958779fcc98"
      },
      "execution_count": null,
      "outputs": [
        {
          "output_type": "execute_result",
          "data": {
            "text/plain": [
              "                   count         mean          std   min     25%     50%  \\\n",
              "Marital_Status                                                             \n",
              "0               324731.0  9265.907619  5027.347859  12.0  5605.0  8044.0   \n",
              "1               225337.0  9261.174574  5016.897378  12.0  5843.0  8051.0   \n",
              "\n",
              "                    75%      max  \n",
              "Marital_Status                    \n",
              "0               12061.0  23961.0  \n",
              "1               12042.0  23961.0  "
            ],
            "text/html": [
              "\n",
              "  <div id=\"df-fdc9d4d3-1d59-45a1-9db9-3ff6cf400a85\">\n",
              "    <div class=\"colab-df-container\">\n",
              "      <div>\n",
              "<style scoped>\n",
              "    .dataframe tbody tr th:only-of-type {\n",
              "        vertical-align: middle;\n",
              "    }\n",
              "\n",
              "    .dataframe tbody tr th {\n",
              "        vertical-align: top;\n",
              "    }\n",
              "\n",
              "    .dataframe thead th {\n",
              "        text-align: right;\n",
              "    }\n",
              "</style>\n",
              "<table border=\"1\" class=\"dataframe\">\n",
              "  <thead>\n",
              "    <tr style=\"text-align: right;\">\n",
              "      <th></th>\n",
              "      <th>count</th>\n",
              "      <th>mean</th>\n",
              "      <th>std</th>\n",
              "      <th>min</th>\n",
              "      <th>25%</th>\n",
              "      <th>50%</th>\n",
              "      <th>75%</th>\n",
              "      <th>max</th>\n",
              "    </tr>\n",
              "    <tr>\n",
              "      <th>Marital_Status</th>\n",
              "      <th></th>\n",
              "      <th></th>\n",
              "      <th></th>\n",
              "      <th></th>\n",
              "      <th></th>\n",
              "      <th></th>\n",
              "      <th></th>\n",
              "      <th></th>\n",
              "    </tr>\n",
              "  </thead>\n",
              "  <tbody>\n",
              "    <tr>\n",
              "      <th>0</th>\n",
              "      <td>324731.0</td>\n",
              "      <td>9265.907619</td>\n",
              "      <td>5027.347859</td>\n",
              "      <td>12.0</td>\n",
              "      <td>5605.0</td>\n",
              "      <td>8044.0</td>\n",
              "      <td>12061.0</td>\n",
              "      <td>23961.0</td>\n",
              "    </tr>\n",
              "    <tr>\n",
              "      <th>1</th>\n",
              "      <td>225337.0</td>\n",
              "      <td>9261.174574</td>\n",
              "      <td>5016.897378</td>\n",
              "      <td>12.0</td>\n",
              "      <td>5843.0</td>\n",
              "      <td>8051.0</td>\n",
              "      <td>12042.0</td>\n",
              "      <td>23961.0</td>\n",
              "    </tr>\n",
              "  </tbody>\n",
              "</table>\n",
              "</div>\n",
              "      <button class=\"colab-df-convert\" onclick=\"convertToInteractive('df-fdc9d4d3-1d59-45a1-9db9-3ff6cf400a85')\"\n",
              "              title=\"Convert this dataframe to an interactive table.\"\n",
              "              style=\"display:none;\">\n",
              "        \n",
              "  <svg xmlns=\"http://www.w3.org/2000/svg\" height=\"24px\"viewBox=\"0 0 24 24\"\n",
              "       width=\"24px\">\n",
              "    <path d=\"M0 0h24v24H0V0z\" fill=\"none\"/>\n",
              "    <path d=\"M18.56 5.44l.94 2.06.94-2.06 2.06-.94-2.06-.94-.94-2.06-.94 2.06-2.06.94zm-11 1L8.5 8.5l.94-2.06 2.06-.94-2.06-.94L8.5 2.5l-.94 2.06-2.06.94zm10 10l.94 2.06.94-2.06 2.06-.94-2.06-.94-.94-2.06-.94 2.06-2.06.94z\"/><path d=\"M17.41 7.96l-1.37-1.37c-.4-.4-.92-.59-1.43-.59-.52 0-1.04.2-1.43.59L10.3 9.45l-7.72 7.72c-.78.78-.78 2.05 0 2.83L4 21.41c.39.39.9.59 1.41.59.51 0 1.02-.2 1.41-.59l7.78-7.78 2.81-2.81c.8-.78.8-2.07 0-2.86zM5.41 20L4 18.59l7.72-7.72 1.47 1.35L5.41 20z\"/>\n",
              "  </svg>\n",
              "      </button>\n",
              "      \n",
              "  <style>\n",
              "    .colab-df-container {\n",
              "      display:flex;\n",
              "      flex-wrap:wrap;\n",
              "      gap: 12px;\n",
              "    }\n",
              "\n",
              "    .colab-df-convert {\n",
              "      background-color: #E8F0FE;\n",
              "      border: none;\n",
              "      border-radius: 50%;\n",
              "      cursor: pointer;\n",
              "      display: none;\n",
              "      fill: #1967D2;\n",
              "      height: 32px;\n",
              "      padding: 0 0 0 0;\n",
              "      width: 32px;\n",
              "    }\n",
              "\n",
              "    .colab-df-convert:hover {\n",
              "      background-color: #E2EBFA;\n",
              "      box-shadow: 0px 1px 2px rgba(60, 64, 67, 0.3), 0px 1px 3px 1px rgba(60, 64, 67, 0.15);\n",
              "      fill: #174EA6;\n",
              "    }\n",
              "\n",
              "    [theme=dark] .colab-df-convert {\n",
              "      background-color: #3B4455;\n",
              "      fill: #D2E3FC;\n",
              "    }\n",
              "\n",
              "    [theme=dark] .colab-df-convert:hover {\n",
              "      background-color: #434B5C;\n",
              "      box-shadow: 0px 1px 3px 1px rgba(0, 0, 0, 0.15);\n",
              "      filter: drop-shadow(0px 1px 2px rgba(0, 0, 0, 0.3));\n",
              "      fill: #FFFFFF;\n",
              "    }\n",
              "  </style>\n",
              "\n",
              "      <script>\n",
              "        const buttonEl =\n",
              "          document.querySelector('#df-fdc9d4d3-1d59-45a1-9db9-3ff6cf400a85 button.colab-df-convert');\n",
              "        buttonEl.style.display =\n",
              "          google.colab.kernel.accessAllowed ? 'block' : 'none';\n",
              "\n",
              "        async function convertToInteractive(key) {\n",
              "          const element = document.querySelector('#df-fdc9d4d3-1d59-45a1-9db9-3ff6cf400a85');\n",
              "          const dataTable =\n",
              "            await google.colab.kernel.invokeFunction('convertToInteractive',\n",
              "                                                     [key], {});\n",
              "          if (!dataTable) return;\n",
              "\n",
              "          const docLinkHtml = 'Like what you see? Visit the ' +\n",
              "            '<a target=\"_blank\" href=https://colab.research.google.com/notebooks/data_table.ipynb>data table notebook</a>'\n",
              "            + ' to learn more about interactive tables.';\n",
              "          element.innerHTML = '';\n",
              "          dataTable['output_type'] = 'display_data';\n",
              "          await google.colab.output.renderOutput(dataTable, element);\n",
              "          const docLink = document.createElement('div');\n",
              "          docLink.innerHTML = docLinkHtml;\n",
              "          element.appendChild(docLink);\n",
              "        }\n",
              "      </script>\n",
              "    </div>\n",
              "  </div>\n",
              "  "
            ]
          },
          "metadata": {},
          "execution_count": 23
        }
      ]
    },
    {
      "cell_type": "code",
      "source": [
        "df.groupby('City_Category')['Purchase'].describe()"
      ],
      "metadata": {
        "colab": {
          "base_uri": "https://localhost:8080/",
          "height": 175
        },
        "id": "n0gI47fdFzLb",
        "outputId": "d580f806-2137-467c-94e2-4253f28ff288"
      },
      "execution_count": null,
      "outputs": [
        {
          "output_type": "execute_result",
          "data": {
            "text/plain": [
              "                  count         mean          std   min     25%     50%  \\\n",
              "City_Category                                                             \n",
              "A              147720.0  8911.939216  4892.115238  12.0  5403.0  7931.0   \n",
              "B              231173.0  9151.300563  4955.496566  12.0  5460.0  8005.0   \n",
              "C              171175.0  9719.920993  5189.465121  12.0  6031.5  8585.0   \n",
              "\n",
              "                   75%      max  \n",
              "City_Category                    \n",
              "A              11786.0  23961.0  \n",
              "B              11986.0  23960.0  \n",
              "C              13197.0  23961.0  "
            ],
            "text/html": [
              "\n",
              "  <div id=\"df-a0de6f06-4478-4310-aa81-78698acfe835\">\n",
              "    <div class=\"colab-df-container\">\n",
              "      <div>\n",
              "<style scoped>\n",
              "    .dataframe tbody tr th:only-of-type {\n",
              "        vertical-align: middle;\n",
              "    }\n",
              "\n",
              "    .dataframe tbody tr th {\n",
              "        vertical-align: top;\n",
              "    }\n",
              "\n",
              "    .dataframe thead th {\n",
              "        text-align: right;\n",
              "    }\n",
              "</style>\n",
              "<table border=\"1\" class=\"dataframe\">\n",
              "  <thead>\n",
              "    <tr style=\"text-align: right;\">\n",
              "      <th></th>\n",
              "      <th>count</th>\n",
              "      <th>mean</th>\n",
              "      <th>std</th>\n",
              "      <th>min</th>\n",
              "      <th>25%</th>\n",
              "      <th>50%</th>\n",
              "      <th>75%</th>\n",
              "      <th>max</th>\n",
              "    </tr>\n",
              "    <tr>\n",
              "      <th>City_Category</th>\n",
              "      <th></th>\n",
              "      <th></th>\n",
              "      <th></th>\n",
              "      <th></th>\n",
              "      <th></th>\n",
              "      <th></th>\n",
              "      <th></th>\n",
              "      <th></th>\n",
              "    </tr>\n",
              "  </thead>\n",
              "  <tbody>\n",
              "    <tr>\n",
              "      <th>A</th>\n",
              "      <td>147720.0</td>\n",
              "      <td>8911.939216</td>\n",
              "      <td>4892.115238</td>\n",
              "      <td>12.0</td>\n",
              "      <td>5403.0</td>\n",
              "      <td>7931.0</td>\n",
              "      <td>11786.0</td>\n",
              "      <td>23961.0</td>\n",
              "    </tr>\n",
              "    <tr>\n",
              "      <th>B</th>\n",
              "      <td>231173.0</td>\n",
              "      <td>9151.300563</td>\n",
              "      <td>4955.496566</td>\n",
              "      <td>12.0</td>\n",
              "      <td>5460.0</td>\n",
              "      <td>8005.0</td>\n",
              "      <td>11986.0</td>\n",
              "      <td>23960.0</td>\n",
              "    </tr>\n",
              "    <tr>\n",
              "      <th>C</th>\n",
              "      <td>171175.0</td>\n",
              "      <td>9719.920993</td>\n",
              "      <td>5189.465121</td>\n",
              "      <td>12.0</td>\n",
              "      <td>6031.5</td>\n",
              "      <td>8585.0</td>\n",
              "      <td>13197.0</td>\n",
              "      <td>23961.0</td>\n",
              "    </tr>\n",
              "  </tbody>\n",
              "</table>\n",
              "</div>\n",
              "      <button class=\"colab-df-convert\" onclick=\"convertToInteractive('df-a0de6f06-4478-4310-aa81-78698acfe835')\"\n",
              "              title=\"Convert this dataframe to an interactive table.\"\n",
              "              style=\"display:none;\">\n",
              "        \n",
              "  <svg xmlns=\"http://www.w3.org/2000/svg\" height=\"24px\"viewBox=\"0 0 24 24\"\n",
              "       width=\"24px\">\n",
              "    <path d=\"M0 0h24v24H0V0z\" fill=\"none\"/>\n",
              "    <path d=\"M18.56 5.44l.94 2.06.94-2.06 2.06-.94-2.06-.94-.94-2.06-.94 2.06-2.06.94zm-11 1L8.5 8.5l.94-2.06 2.06-.94-2.06-.94L8.5 2.5l-.94 2.06-2.06.94zm10 10l.94 2.06.94-2.06 2.06-.94-2.06-.94-.94-2.06-.94 2.06-2.06.94z\"/><path d=\"M17.41 7.96l-1.37-1.37c-.4-.4-.92-.59-1.43-.59-.52 0-1.04.2-1.43.59L10.3 9.45l-7.72 7.72c-.78.78-.78 2.05 0 2.83L4 21.41c.39.39.9.59 1.41.59.51 0 1.02-.2 1.41-.59l7.78-7.78 2.81-2.81c.8-.78.8-2.07 0-2.86zM5.41 20L4 18.59l7.72-7.72 1.47 1.35L5.41 20z\"/>\n",
              "  </svg>\n",
              "      </button>\n",
              "      \n",
              "  <style>\n",
              "    .colab-df-container {\n",
              "      display:flex;\n",
              "      flex-wrap:wrap;\n",
              "      gap: 12px;\n",
              "    }\n",
              "\n",
              "    .colab-df-convert {\n",
              "      background-color: #E8F0FE;\n",
              "      border: none;\n",
              "      border-radius: 50%;\n",
              "      cursor: pointer;\n",
              "      display: none;\n",
              "      fill: #1967D2;\n",
              "      height: 32px;\n",
              "      padding: 0 0 0 0;\n",
              "      width: 32px;\n",
              "    }\n",
              "\n",
              "    .colab-df-convert:hover {\n",
              "      background-color: #E2EBFA;\n",
              "      box-shadow: 0px 1px 2px rgba(60, 64, 67, 0.3), 0px 1px 3px 1px rgba(60, 64, 67, 0.15);\n",
              "      fill: #174EA6;\n",
              "    }\n",
              "\n",
              "    [theme=dark] .colab-df-convert {\n",
              "      background-color: #3B4455;\n",
              "      fill: #D2E3FC;\n",
              "    }\n",
              "\n",
              "    [theme=dark] .colab-df-convert:hover {\n",
              "      background-color: #434B5C;\n",
              "      box-shadow: 0px 1px 3px 1px rgba(0, 0, 0, 0.15);\n",
              "      filter: drop-shadow(0px 1px 2px rgba(0, 0, 0, 0.3));\n",
              "      fill: #FFFFFF;\n",
              "    }\n",
              "  </style>\n",
              "\n",
              "      <script>\n",
              "        const buttonEl =\n",
              "          document.querySelector('#df-a0de6f06-4478-4310-aa81-78698acfe835 button.colab-df-convert');\n",
              "        buttonEl.style.display =\n",
              "          google.colab.kernel.accessAllowed ? 'block' : 'none';\n",
              "\n",
              "        async function convertToInteractive(key) {\n",
              "          const element = document.querySelector('#df-a0de6f06-4478-4310-aa81-78698acfe835');\n",
              "          const dataTable =\n",
              "            await google.colab.kernel.invokeFunction('convertToInteractive',\n",
              "                                                     [key], {});\n",
              "          if (!dataTable) return;\n",
              "\n",
              "          const docLinkHtml = 'Like what you see? Visit the ' +\n",
              "            '<a target=\"_blank\" href=https://colab.research.google.com/notebooks/data_table.ipynb>data table notebook</a>'\n",
              "            + ' to learn more about interactive tables.';\n",
              "          element.innerHTML = '';\n",
              "          dataTable['output_type'] = 'display_data';\n",
              "          await google.colab.output.renderOutput(dataTable, element);\n",
              "          const docLink = document.createElement('div');\n",
              "          docLink.innerHTML = docLinkHtml;\n",
              "          element.appendChild(docLink);\n",
              "        }\n",
              "      </script>\n",
              "    </div>\n",
              "  </div>\n",
              "  "
            ]
          },
          "metadata": {},
          "execution_count": 24
        }
      ]
    },
    {
      "cell_type": "code",
      "source": [
        "plt.figure(figsize=(15,12.5))\n",
        "sns.boxplot(x='Age',y='Purchase',data=df)\n",
        "plt.show()"
      ],
      "metadata": {
        "colab": {
          "base_uri": "https://localhost:8080/",
          "height": 741
        },
        "id": "eKdEuhRIWQ3l",
        "outputId": "25246b79-dbad-4c28-91c6-9bc707b8f0dc"
      },
      "execution_count": null,
      "outputs": [
        {
          "output_type": "display_data",
          "data": {
            "text/plain": [
              "<Figure size 1080x900 with 1 Axes>"
            ],
            "image/png": "[encoded data removed]"
          },
          "metadata": {
            "needs_background": "light"
          }
        }
      ]
    },
    {
      "cell_type": "markdown",
      "source": [
        "\n",
        "* Median expenditure of all age-groups of customer is almost same.   \n",
        "\n",
        "* But there is outliers on the upper side in all the age-group. It might be    because there income is high.\n",
        "\n",
        "\n",
        "\n",
        "\n",
        "\n",
        "\n",
        "\n"
      ],
      "metadata": {
        "id": "UC1DwsRFZMrN"
      }
    },
    {
      "cell_type": "markdown",
      "source": [
        "##Finding Confidence Intervals of purchase in Male customer "
      ],
      "metadata": {
        "id": "mTCO5mxx9PNN"
      }
    },
    {
      "cell_type": "code",
      "source": [
        "df_male = df.loc[df['Gender']=='M',['Purchase']]\n",
        "df_male=df_male.reset_index(drop=True)"
      ],
      "metadata": {
        "id": "RKp9o7XIMCup"
      },
      "execution_count": null,
      "outputs": []
    },
    {
      "cell_type": "code",
      "source": [
        "sample_size = 100\n",
        "total_sample = 5000\n",
        "sample_mean = []\n",
        "for i in range(total_sample):\n",
        "  sample = df_male['Purchase'].sample(sample_size)\n",
        "  sample_mean.append(round(sample.mean(),2))\n",
        "\n",
        "\n",
        "plt.figure(figsize=(10,5))\n",
        "plt.subplot(1,1,1)\n",
        "sns.histplot(sample_mean,bins=20)\n",
        "plt.xlabel(\"SAMPLE MEAN\")\n",
        "plt.ylabel(\"OBSERVATION COUNT\")\n",
        "plt.show()"
      ],
      "metadata": {
        "colab": {
          "base_uri": "https://localhost:8080/",
          "height": 334
        },
        "id": "GO9mD-1ceuXX",
        "outputId": "3e787c3f-4222-410d-9f42-8f8ca7d27dfc"
      },
      "execution_count": null,
      "outputs": [
        {
          "output_type": "display_data",
          "data": {
            "text/plain": [
              "<Figure size 720x360 with 1 Axes>"
            ],
            "image/png": "[encoded data removed]"
          },
          "metadata": {
            "needs_background": "light"
          }
        }
      ]
    },
    {
      "cell_type": "code",
      "source": [
        "## 90 percent confidence interval\n",
        "\n",
        "left = round(np.percentile(sample_mean,5))\n",
        "right = round(np.percentile(sample_mean,95))\n",
        "\n",
        "print(\"90% confident interval for Male Customer is: \",[left, right])\n",
        "\n",
        "## 95 percent confidence interval\n",
        "\n",
        "left = round(np.percentile(sample_mean,2.5))\n",
        "right = round(np.percentile(sample_mean,97.5))\n",
        "\n",
        "print(\"95% confident interval for Male Customer is: \",[left, right])\n",
        "\n",
        "## 99 percent confidence interval\n",
        "\n",
        "left = round(np.percentile(sample_mean,0.5))\n",
        "right = round(np.percentile(sample_mean,99.5))\n",
        "\n",
        "print(\"99% confident interval for Male Customer is: \",[left, right])"
      ],
      "metadata": {
        "colab": {
          "base_uri": "https://localhost:8080/"
        },
        "id": "8f1FbXYW-NM7",
        "outputId": "a11c1c24-0203-4281-c4c0-7d3609ad6fb8"
      },
      "execution_count": null,
      "outputs": [
        {
          "output_type": "stream",
          "name": "stdout",
          "text": [
            "90% confident interval for Male Customer is:  [8612, 10292]\n",
            "95% confident interval for Male Customer is:  [8463, 10454]\n",
            "99% confident interval for Male Customer is:  [8106, 10816]\n"
          ]
        }
      ]
    },
    {
      "cell_type": "markdown",
      "source": [
        "##Finding Confidence Intervals of purchase in Female customer"
      ],
      "metadata": {
        "id": "IjMPyCWDAB4K"
      }
    },
    {
      "cell_type": "code",
      "source": [
        "df_female = df.loc[df['Gender']=='F',['Purchase']]\n",
        "df_female=df_female.reset_index(drop=True)\n"
      ],
      "metadata": {
        "id": "KsbPUgjQc3aC"
      },
      "execution_count": null,
      "outputs": []
    },
    {
      "cell_type": "code",
      "source": [
        "sample_size = 100\n",
        "total_sample = 5000\n",
        "sample_mean = []\n",
        "for i in range(total_sample):\n",
        "  sample = df_female['Purchase'].sample(sample_size)\n",
        "  sample_mean.append(round(sample.mean(),2))\n",
        "\n",
        "plt.figure(figsize=(10,5))\n",
        "plt.subplot(1,1,1)\n",
        "sns.histplot(sample_mean,bins=20)\n",
        "plt.xlabel(\"SAMPLE MEAN\")\n",
        "plt.ylabel(\"OBSERVATION COUNT\")\n",
        "plt.show()"
      ],
      "metadata": {
        "colab": {
          "base_uri": "https://localhost:8080/",
          "height": 334
        },
        "id": "IiPcp_Y_kMpY",
        "outputId": "3e7f1c28-fa96-4910-94e8-dd7f9ecbf8c4"
      },
      "execution_count": null,
      "outputs": [
        {
          "output_type": "display_data",
          "data": {
            "text/plain": [
              "<Figure size 720x360 with 1 Axes>"
            ],
            "image/png": "[encoded data removed]"
          },
          "metadata": {
            "needs_background": "light"
          }
        }
      ]
    },
    {
      "cell_type": "code",
      "source": [
        "## 90 percent confidence interval\n",
        "\n",
        "left = round(np.percentile(sample_mean,5))\n",
        "right = round(np.percentile(sample_mean,95))\n",
        "\n",
        "print(\"90% confident interval for Female Customer is: \",[left, right])\n",
        "\n",
        "## 95 percent confidence interval\n",
        "\n",
        "left = round(np.percentile(sample_mean,2.5))\n",
        "right = round(np.percentile(sample_mean,97.5))\n",
        "\n",
        "print(\"95% confident interval for Female Customer is: \",[left, right])\n",
        "\n",
        "## 99 percent confidence interval\n",
        "\n",
        "left = round(np.percentile(sample_mean,0.5))\n",
        "right = round(np.percentile(sample_mean,99.5))\n",
        "\n",
        "print(\"99% confident interval for Female Customer is: \",[left, right])"
      ],
      "metadata": {
        "colab": {
          "base_uri": "https://localhost:8080/"
        },
        "id": "DruTda_vATcQ",
        "outputId": "d5cc4d1d-8969-4136-c6f8-c16af73c9453"
      },
      "execution_count": null,
      "outputs": [
        {
          "output_type": "stream",
          "name": "stdout",
          "text": [
            "90% confident interval for Female Customer is:  [7958, 9531]\n",
            "95% confident interval for Female Customer is:  [7812, 9705]\n",
            "99% confident interval for Female Customer is:  [7528, 10063]\n"
          ]
        }
      ]
    },
    {
      "cell_type": "markdown",
      "source": [
        "### 90% confident interval for Male Customer is:  [8611, 10302]\n",
        "### 90% confident interval for Female Customer is:  [7962, 9546]\n",
        "\n",
        "### 95% confident interval for Male Customer is:  [8475, 10460]\n",
        "### 95% confident interval for Female Customer is:  [7810, 9710]\n",
        "\n",
        "### 99% confident interval for Male Customer is:  [8185, 10823]\n",
        "### 99% confident interval for Female Customer is:  [7555, 10016]\n",
        "\n",
        "### The CLT of male and female custome is overlapping but it is not full overlap. There are significant value difference is there. So, we can suggest there is statistical difference between male and femal customers."
      ],
      "metadata": {
        "id": "AYiTznsHYQHq"
      }
    },
    {
      "cell_type": "markdown",
      "source": [
        "###Finding confidence interval of purchase in Married Customer"
      ],
      "metadata": {
        "id": "TwNcSkzckYvx"
      }
    },
    {
      "cell_type": "code",
      "source": [
        "df_Married = df.loc[df['Marital_Status']==1,['Purchase']]\n",
        "df_Married=df_Married.reset_index(drop=True)"
      ],
      "metadata": {
        "id": "z4ail-kKkl04"
      },
      "execution_count": null,
      "outputs": []
    },
    {
      "cell_type": "code",
      "source": [
        "sample_size = 100\n",
        "total_sample = 5000\n",
        "sample_mean = []\n",
        "for i in range(total_sample):\n",
        "  sample = df_Married['Purchase'].sample(sample_size)\n",
        "  sample_mean.append(round(sample.mean(),2))\n",
        "\n",
        "\n",
        "plt.figure(figsize=(10,5))\n",
        "plt.subplot(1,1,1)\n",
        "sns.histplot(sample_mean,bins=20)\n",
        "plt.xlabel(\"SAMPLE MEAN\")\n",
        "plt.ylabel(\"OBSERVATION COUNT\")\n",
        "plt.show()"
      ],
      "metadata": {
        "colab": {
          "base_uri": "https://localhost:8080/",
          "height": 334
        },
        "id": "z6r01sN0lcPR",
        "outputId": "67473739-7ad5-4b99-b493-2b997bb6b1cf"
      },
      "execution_count": null,
      "outputs": [
        {
          "output_type": "display_data",
          "data": {
            "text/plain": [
              "<Figure size 720x360 with 1 Axes>"
            ],
            "image/png": "[encoded data removed]"
          },
          "metadata": {
            "needs_background": "light"
          }
        }
      ]
    },
    {
      "cell_type": "code",
      "source": [
        "## 90 percent confidence interval\n",
        "\n",
        "left = round(np.percentile(sample_mean,5))\n",
        "right = round(np.percentile(sample_mean,95))\n",
        "\n",
        "print(\"90% confident interval for Married Customer is: \",[left, right])\n",
        "\n",
        "## 95 percent confidence interval\n",
        "\n",
        "left = round(np.percentile(sample_mean,2.5))\n",
        "right = round(np.percentile(sample_mean,97.5))\n",
        "\n",
        "print(\"95% confident interval for Married Customer is: \",[left, right])\n",
        "\n",
        "## 99 percent confidence interval\n",
        "\n",
        "left = round(np.percentile(sample_mean,0.5))\n",
        "right = round(np.percentile(sample_mean,99.5))\n",
        "\n",
        "print(\"99% confident interval for Married Customer is: \",[left, right])"
      ],
      "metadata": {
        "colab": {
          "base_uri": "https://localhost:8080/"
        },
        "id": "Jn6bwG1lm7h4",
        "outputId": "4d72be00-9852-4201-cbaf-ae158be87658"
      },
      "execution_count": null,
      "outputs": [
        {
          "output_type": "stream",
          "name": "stdout",
          "text": [
            "90% confident interval for Married Customer is:  [8458, 10080]\n",
            "95% confident interval for Married Customer is:  [8312, 10239]\n",
            "99% confident interval for Married Customer is:  [8050, 10576]\n"
          ]
        }
      ]
    },
    {
      "cell_type": "markdown",
      "source": [
        "###Finding confidence interval of purchase in Married Customer"
      ],
      "metadata": {
        "id": "osdhjbWXtAPf"
      }
    },
    {
      "cell_type": "code",
      "source": [
        "df_Unmarried = df.loc[df['Marital_Status']==0,['Purchase']]\n",
        "df_Unmarried=df_Unmarried.reset_index(drop=True)"
      ],
      "metadata": {
        "id": "FsJQ1VHktCpU"
      },
      "execution_count": null,
      "outputs": []
    },
    {
      "cell_type": "code",
      "source": [
        "sample_size = 100\n",
        "total_sample = 5000\n",
        "sample_mean = []\n",
        "for i in range(total_sample):\n",
        "  sample = df_Unmarried['Purchase'].sample(sample_size)\n",
        "  sample_mean.append(round(sample.mean(),2))\n",
        "\n",
        "\n",
        "plt.figure(figsize=(10,5))\n",
        "plt.subplot(1,1,1)\n",
        "sns.histplot(sample_mean,bins=20)\n",
        "plt.xlabel(\"SAMPLE MEAN\")\n",
        "plt.ylabel(\"OBSERVATION COUNT\")\n",
        "plt.show()"
      ],
      "metadata": {
        "colab": {
          "base_uri": "https://localhost:8080/",
          "height": 334
        },
        "id": "a_pQ01_btlbH",
        "outputId": "ddeb4f0d-ad22-4f1f-bcf0-f493585193eb"
      },
      "execution_count": null,
      "outputs": [
        {
          "output_type": "display_data",
          "data": {
            "text/plain": [
              "<Figure size 720x360 with 1 Axes>"
            ],
            "image/png": "[encoded data removed]"
          },
          "metadata": {
            "needs_background": "light"
          }
        }
      ]
    },
    {
      "cell_type": "code",
      "source": [],
      "metadata": {
        "id": "4iY5Jf9vhGeW"
      },
      "execution_count": null,
      "outputs": []
    },
    {
      "cell_type": "code",
      "source": [],
      "metadata": {
        "id": "EoKcbcHIhGvK"
      },
      "execution_count": null,
      "outputs": []
    },
    {
      "cell_type": "code",
      "source": [
        "## 90 percent confidence interval\n",
        "\n",
        "left = round(np.percentile(sample_mean,5))\n",
        "right = round(np.percentile(sample_mean,95))\n",
        "\n",
        "print(\"90% confident interval for Un-Married Customer is: \",[left, right])\n",
        "\n",
        "## 95 percent confidence interval\n",
        "\n",
        "left = round(np.percentile(sample_mean,2.5))\n",
        "right = round(np.percentile(sample_mean,97.5))\n",
        "\n",
        "print(\"95% confident interval for Un-Married Customer is: \",[left, right])\n",
        "\n",
        "## 99 percent confidence interval\n",
        "\n",
        "left = round(np.percentile(sample_mean,0.5))\n",
        "right = round(np.percentile(sample_mean,99.5))\n",
        "\n",
        "print(\"99% confident interval for Un-Married Customer is: \",[left, right])"
      ],
      "metadata": {
        "colab": {
          "base_uri": "https://localhost:8080/"
        },
        "id": "3S6LCLcnt5LX",
        "outputId": "2d9dcc63-d1d1-43da-d26c-56d191b11b09"
      },
      "execution_count": null,
      "outputs": [
        {
          "output_type": "stream",
          "name": "stdout",
          "text": [
            "90% confident interval for Un-Married Customer is:  [8443, 10128]\n",
            "95% confident interval for Un-Married Customer is:  [8305, 10281]\n",
            "99% confident interval for Un-Married Customer is:  [7995, 10610]\n"
          ]
        }
      ]
    },
    {
      "cell_type": "markdown",
      "source": [
        "### 90% confident interval for Married Customer is:  [8457, 10097]\n",
        "### 90% confident interval for Un-Married Customer is:  [8446, 10068]\n",
        "\n",
        "### 95% confident interval for Married Customer is:  [8290, 10244]\n",
        "### 95% confident interval for Un-Married Customer is:  [8308, 10242]\n",
        "\n",
        "### 99% confident interval for Married Customer is:  [8067, 10568]\n",
        "### 99% confident interval for Un-Married Customer is:  [7965, 10586]\n",
        "\n",
        "### Looking at the 90%, 95%, 99% confidence interval data we can say there is no statistical significant in married and un-married customer purchase habits."
      ],
      "metadata": {
        "id": "onXVwOWZXTdZ"
      }
    },
    {
      "cell_type": "code",
      "source": [
        "df.groupby('Age')['Purchase'].describe()"
      ],
      "metadata": {
        "colab": {
          "base_uri": "https://localhost:8080/",
          "height": 301
        },
        "id": "cmKcbtZJ-29D",
        "outputId": "d3d4b53a-e688-4393-bb21-e9df04ac2da3"
      },
      "execution_count": null,
      "outputs": [
        {
          "output_type": "execute_result",
          "data": {
            "text/plain": [
              "          count         mean          std   min     25%     50%      75%  \\\n",
              "Age                                                                        \n",
              "0-17    15102.0  8933.464640  5111.114046  12.0  5328.0  7986.0  11874.0   \n",
              "18-25   99660.0  9169.663606  5034.321997  12.0  5415.0  8027.0  12028.0   \n",
              "26-35  219587.0  9252.690633  5010.527303  12.0  5475.0  8030.0  12047.0   \n",
              "36-45  110013.0  9331.350695  5022.923879  12.0  5876.0  8061.0  12107.0   \n",
              "46-50   45701.0  9208.625697  4967.216367  12.0  5888.0  8036.0  11997.0   \n",
              "51-55   38501.0  9534.808031  5087.368080  12.0  6017.0  8130.0  12462.0   \n",
              "55+     21504.0  9336.280459  5011.493996  12.0  6018.0  8105.5  11932.0   \n",
              "\n",
              "           max  \n",
              "Age             \n",
              "0-17   23955.0  \n",
              "18-25  23958.0  \n",
              "26-35  23961.0  \n",
              "36-45  23960.0  \n",
              "46-50  23960.0  \n",
              "51-55  23960.0  \n",
              "55+    23960.0  "
            ],
            "text/html": [
              "\n",
              "  <div id=\"df-74a3273e-04e3-4026-97ae-f1aabe9dfb8f\">\n",
              "    <div class=\"colab-df-container\">\n",
              "      <div>\n",
              "<style scoped>\n",
              "    .dataframe tbody tr th:only-of-type {\n",
              "        vertical-align: middle;\n",
              "    }\n",
              "\n",
              "    .dataframe tbody tr th {\n",
              "        vertical-align: top;\n",
              "    }\n",
              "\n",
              "    .dataframe thead th {\n",
              "        text-align: right;\n",
              "    }\n",
              "</style>\n",
              "<table border=\"1\" class=\"dataframe\">\n",
              "  <thead>\n",
              "    <tr style=\"text-align: right;\">\n",
              "      <th></th>\n",
              "      <th>count</th>\n",
              "      <th>mean</th>\n",
              "      <th>std</th>\n",
              "      <th>min</th>\n",
              "      <th>25%</th>\n",
              "      <th>50%</th>\n",
              "      <th>75%</th>\n",
              "      <th>max</th>\n",
              "    </tr>\n",
              "    <tr>\n",
              "      <th>Age</th>\n",
              "      <th></th>\n",
              "      <th></th>\n",
              "      <th></th>\n",
              "      <th></th>\n",
              "      <th></th>\n",
              "      <th></th>\n",
              "      <th></th>\n",
              "      <th></th>\n",
              "    </tr>\n",
              "  </thead>\n",
              "  <tbody>\n",
              "    <tr>\n",
              "      <th>0-17</th>\n",
              "      <td>15102.0</td>\n",
              "      <td>8933.464640</td>\n",
              "      <td>5111.114046</td>\n",
              "      <td>12.0</td>\n",
              "      <td>5328.0</td>\n",
              "      <td>7986.0</td>\n",
              "      <td>11874.0</td>\n",
              "      <td>23955.0</td>\n",
              "    </tr>\n",
              "    <tr>\n",
              "      <th>18-25</th>\n",
              "      <td>99660.0</td>\n",
              "      <td>9169.663606</td>\n",
              "      <td>5034.321997</td>\n",
              "      <td>12.0</td>\n",
              "      <td>5415.0</td>\n",
              "      <td>8027.0</td>\n",
              "      <td>12028.0</td>\n",
              "      <td>23958.0</td>\n",
              "    </tr>\n",
              "    <tr>\n",
              "      <th>26-35</th>\n",
              "      <td>219587.0</td>\n",
              "      <td>9252.690633</td>\n",
              "      <td>5010.527303</td>\n",
              "      <td>12.0</td>\n",
              "      <td>5475.0</td>\n",
              "      <td>8030.0</td>\n",
              "      <td>12047.0</td>\n",
              "      <td>23961.0</td>\n",
              "    </tr>\n",
              "    <tr>\n",
              "      <th>36-45</th>\n",
              "      <td>110013.0</td>\n",
              "      <td>9331.350695</td>\n",
              "      <td>5022.923879</td>\n",
              "      <td>12.0</td>\n",
              "      <td>5876.0</td>\n",
              "      <td>8061.0</td>\n",
              "      <td>12107.0</td>\n",
              "      <td>23960.0</td>\n",
              "    </tr>\n",
              "    <tr>\n",
              "      <th>46-50</th>\n",
              "      <td>45701.0</td>\n",
              "      <td>9208.625697</td>\n",
              "      <td>4967.216367</td>\n",
              "      <td>12.0</td>\n",
              "      <td>5888.0</td>\n",
              "      <td>8036.0</td>\n",
              "      <td>11997.0</td>\n",
              "      <td>23960.0</td>\n",
              "    </tr>\n",
              "    <tr>\n",
              "      <th>51-55</th>\n",
              "      <td>38501.0</td>\n",
              "      <td>9534.808031</td>\n",
              "      <td>5087.368080</td>\n",
              "      <td>12.0</td>\n",
              "      <td>6017.0</td>\n",
              "      <td>8130.0</td>\n",
              "      <td>12462.0</td>\n",
              "      <td>23960.0</td>\n",
              "    </tr>\n",
              "    <tr>\n",
              "      <th>55+</th>\n",
              "      <td>21504.0</td>\n",
              "      <td>9336.280459</td>\n",
              "      <td>5011.493996</td>\n",
              "      <td>12.0</td>\n",
              "      <td>6018.0</td>\n",
              "      <td>8105.5</td>\n",
              "      <td>11932.0</td>\n",
              "      <td>23960.0</td>\n",
              "    </tr>\n",
              "  </tbody>\n",
              "</table>\n",
              "</div>\n",
              "      <button class=\"colab-df-convert\" onclick=\"convertToInteractive('df-74a3273e-04e3-4026-97ae-f1aabe9dfb8f')\"\n",
              "              title=\"Convert this dataframe to an interactive table.\"\n",
              "              style=\"display:none;\">\n",
              "        \n",
              "  <svg xmlns=\"http://www.w3.org/2000/svg\" height=\"24px\"viewBox=\"0 0 24 24\"\n",
              "       width=\"24px\">\n",
              "    <path d=\"M0 0h24v24H0V0z\" fill=\"none\"/>\n",
              "    <path d=\"M18.56 5.44l.94 2.06.94-2.06 2.06-.94-2.06-.94-.94-2.06-.94 2.06-2.06.94zm-11 1L8.5 8.5l.94-2.06 2.06-.94-2.06-.94L8.5 2.5l-.94 2.06-2.06.94zm10 10l.94 2.06.94-2.06 2.06-.94-2.06-.94-.94-2.06-.94 2.06-2.06.94z\"/><path d=\"M17.41 7.96l-1.37-1.37c-.4-.4-.92-.59-1.43-.59-.52 0-1.04.2-1.43.59L10.3 9.45l-7.72 7.72c-.78.78-.78 2.05 0 2.83L4 21.41c.39.39.9.59 1.41.59.51 0 1.02-.2 1.41-.59l7.78-7.78 2.81-2.81c.8-.78.8-2.07 0-2.86zM5.41 20L4 18.59l7.72-7.72 1.47 1.35L5.41 20z\"/>\n",
              "  </svg>\n",
              "      </button>\n",
              "      \n",
              "  <style>\n",
              "    .colab-df-container {\n",
              "      display:flex;\n",
              "      flex-wrap:wrap;\n",
              "      gap: 12px;\n",
              "    }\n",
              "\n",
              "    .colab-df-convert {\n",
              "      background-color: #E8F0FE;\n",
              "      border: none;\n",
              "      border-radius: 50%;\n",
              "      cursor: pointer;\n",
              "      display: none;\n",
              "      fill: #1967D2;\n",
              "      height: 32px;\n",
              "      padding: 0 0 0 0;\n",
              "      width: 32px;\n",
              "    }\n",
              "\n",
              "    .colab-df-convert:hover {\n",
              "      background-color: #E2EBFA;\n",
              "      box-shadow: 0px 1px 2px rgba(60, 64, 67, 0.3), 0px 1px 3px 1px rgba(60, 64, 67, 0.15);\n",
              "      fill: #174EA6;\n",
              "    }\n",
              "\n",
              "    [theme=dark] .colab-df-convert {\n",
              "      background-color: #3B4455;\n",
              "      fill: #D2E3FC;\n",
              "    }\n",
              "\n",
              "    [theme=dark] .colab-df-convert:hover {\n",
              "      background-color: #434B5C;\n",
              "      box-shadow: 0px 1px 3px 1px rgba(0, 0, 0, 0.15);\n",
              "      filter: drop-shadow(0px 1px 2px rgba(0, 0, 0, 0.3));\n",
              "      fill: #FFFFFF;\n",
              "    }\n",
              "  </style>\n",
              "\n",
              "      <script>\n",
              "        const buttonEl =\n",
              "          document.querySelector('#df-74a3273e-04e3-4026-97ae-f1aabe9dfb8f button.colab-df-convert');\n",
              "        buttonEl.style.display =\n",
              "          google.colab.kernel.accessAllowed ? 'block' : 'none';\n",
              "\n",
              "        async function convertToInteractive(key) {\n",
              "          const element = document.querySelector('#df-74a3273e-04e3-4026-97ae-f1aabe9dfb8f');\n",
              "          const dataTable =\n",
              "            await google.colab.kernel.invokeFunction('convertToInteractive',\n",
              "                                                     [key], {});\n",
              "          if (!dataTable) return;\n",
              "\n",
              "          const docLinkHtml = 'Like what you see? Visit the ' +\n",
              "            '<a target=\"_blank\" href=https://colab.research.google.com/notebooks/data_table.ipynb>data table notebook</a>'\n",
              "            + ' to learn more about interactive tables.';\n",
              "          element.innerHTML = '';\n",
              "          dataTable['output_type'] = 'display_data';\n",
              "          await google.colab.output.renderOutput(dataTable, element);\n",
              "          const docLink = document.createElement('div');\n",
              "          docLink.innerHTML = docLinkHtml;\n",
              "          element.appendChild(docLink);\n",
              "        }\n",
              "      </script>\n",
              "    </div>\n",
              "  </div>\n",
              "  "
            ]
          },
          "metadata": {},
          "execution_count": 38
        }
      ]
    },
    {
      "cell_type": "code",
      "source": [
        "plt.figure(figsize=(15,12.5))\n",
        "sns.boxplot(x='Age',y='Purchase',data=df)\n",
        "plt.show()"
      ],
      "metadata": {
        "colab": {
          "base_uri": "https://localhost:8080/",
          "height": 741
        },
        "id": "JNR5f28Q_VfK",
        "outputId": "6274ecdb-5ef9-4add-d66d-5625fd7e6668"
      },
      "execution_count": null,
      "outputs": [
        {
          "output_type": "display_data",
          "data": {
            "text/plain": [
              "<Figure size 1080x900 with 1 Axes>"
            ],
            "image/png": "[encoded data removed]"
          },
          "metadata": {
            "needs_background": "light"
          }
        }
      ]
    },
    {
      "cell_type": "markdown",
      "source": [
        "### Median values of purchase habit among all age bracket is almost samez.\n",
        "### All the age brackets have some outliers looking at the above box plot."
      ],
      "metadata": {
        "id": "_a12UJndW5PM"
      }
    },
    {
      "cell_type": "code",
      "source": [
        "df['Age'].replace(['0-17','18-25','26-35','36-45','46-50','51-55','55+'],[0,1,2,3,4,5,6],inplace=True)"
      ],
      "metadata": {
        "id": "KZxTUiziJGvg"
      },
      "execution_count": null,
      "outputs": []
    },
    {
      "cell_type": "code",
      "source": [
        "df_Age0 = df.loc[df['Age']==0,['Purchase']]\n",
        "df_Age0=df_Age0.reset_index(drop=True)\n",
        "sample_size = 100\n",
        "total_sample =3000\n",
        "sample_mean = []\n",
        "for i in range(total_sample):\n",
        "  sample = df_Age0['Purchase'].sample(sample_size)\n",
        "  sample_mean.append(round(sample.mean(),2))\n",
        "\n",
        "plt.figure(figsize=(10,5))\n",
        "plt.subplot(1,1,1)\n",
        "sns.histplot(sample_mean,bins=20)\n",
        "plt.xlabel(\"SAMPLE MEAN\")\n",
        "plt.ylabel(\"OBSERVATION COUNT\")\n",
        "plt.show()\n",
        "\n",
        "## 95 percent confidence interval\n",
        "\n",
        "left = round(np.percentile(sample_mean,2.5))\n",
        "right = round(np.percentile(sample_mean,97.5))\n",
        "\n",
        "print(\"95% confident interval for Age(0-17) Customer is: \",[left, right])"
      ],
      "metadata": {
        "colab": {
          "base_uri": "https://localhost:8080/",
          "height": 353
        },
        "id": "FDy2hfYaLh3n",
        "outputId": "38c06610-1b8e-434b-a4d7-49281ce7e6f8"
      },
      "execution_count": null,
      "outputs": [
        {
          "output_type": "display_data",
          "data": {
            "text/plain": [
              "<Figure size 720x360 with 1 Axes>"
            ],
            "image/png": "[encoded data removed]"
          },
          "metadata": {
            "needs_background": "light"
          }
        },
        {
          "output_type": "stream",
          "name": "stdout",
          "text": [
            "95% confident interval for Age(0-17) Customer is:  [7948, 9959]\n"
          ]
        }
      ]
    },
    {
      "cell_type": "code",
      "source": [
        "df_Age1 = df.loc[df['Age']==1,['Purchase']]\n",
        "df_Age1=df_Age1.reset_index(drop=True)\n",
        "sample_size = 100\n",
        "total_sample =3000\n",
        "sample_mean = []\n",
        "for i in range(total_sample):\n",
        "  sample = df_Age1['Purchase'].sample(sample_size)\n",
        "  sample_mean.append(round(sample.mean(),2))\n",
        "\n",
        "plt.figure(figsize=(10,5))\n",
        "plt.subplot(1,1,1)\n",
        "sns.histplot(sample_mean,bins=20)\n",
        "plt.xlabel(\"SAMPLE MEAN\")\n",
        "plt.ylabel(\"OBSERVATION COUNT\")\n",
        "plt.show()\n",
        "\n",
        "## 95 percent confidence interval\n",
        "\n",
        "left = round(np.percentile(sample_mean,2.5))\n",
        "right = round(np.percentile(sample_mean,97.5))\n",
        "\n",
        "print(\"95% confident interval for Age(18-25) Customer is: \",[left, right])"
      ],
      "metadata": {
        "colab": {
          "base_uri": "https://localhost:8080/",
          "height": 351
        },
        "id": "Gb2OLCrkMeIh",
        "outputId": "7a4a7b67-f833-41be-fd3d-780d82be7d34"
      },
      "execution_count": null,
      "outputs": [
        {
          "output_type": "display_data",
          "data": {
            "text/plain": [
              "<Figure size 720x360 with 1 Axes>"
            ],
            "image/png": "[encoded data removed]"
          },
          "metadata": {
            "needs_background": "light"
          }
        },
        {
          "output_type": "stream",
          "name": "stdout",
          "text": [
            "95% confident interval for Age(18-25) Customer is:  [8178, 10177]\n"
          ]
        }
      ]
    },
    {
      "cell_type": "code",
      "source": [
        "df_Age2 = df.loc[df['Age']==2,['Purchase']]\n",
        "df_Age2=df_Age2.reset_index(drop=True)\n",
        "sample_size = 100\n",
        "total_sample =3000\n",
        "sample_mean = []\n",
        "for i in range(total_sample):\n",
        "  sample = df_Age2['Purchase'].sample(sample_size)\n",
        "  sample_mean.append(round(sample.mean(),2))\n",
        "\n",
        "plt.figure(figsize=(10,5))\n",
        "plt.subplot(1,1,1)\n",
        "sns.histplot(sample_mean,bins=20)\n",
        "plt.xlabel(\"SAMPLE MEAN\")\n",
        "plt.ylabel(\"OBSERVATION COUNT\")\n",
        "plt.show()\n",
        "\n",
        "## 95 percent confidence interval\n",
        "\n",
        "left = round(np.percentile(sample_mean,2.5))\n",
        "right = round(np.percentile(sample_mean,97.5))\n",
        "\n",
        "print(\"95% confident interval for Age(26-35) Customer is: \",[left, right])"
      ],
      "metadata": {
        "colab": {
          "base_uri": "https://localhost:8080/",
          "height": 351
        },
        "id": "3tiPrC2bMzdf",
        "outputId": "40d61b40-7049-43df-9587-95cc1a950e2f"
      },
      "execution_count": null,
      "outputs": [
        {
          "output_type": "display_data",
          "data": {
            "text/plain": [
              "<Figure size 720x360 with 1 Axes>"
            ],
            "image/png": "[encoded data removed]"
          },
          "metadata": {
            "needs_background": "light"
          }
        },
        {
          "output_type": "stream",
          "name": "stdout",
          "text": [
            "95% confident interval for Age(26-35) Customer is:  [8333, 10225]\n"
          ]
        }
      ]
    },
    {
      "cell_type": "code",
      "source": [
        "df_Age3 = df.loc[df['Age']==3,['Purchase']]\n",
        "df_Age3=df_Age3.reset_index(drop=True)\n",
        "sample_size = 100\n",
        "total_sample =3000\n",
        "sample_mean = []\n",
        "for i in range(total_sample):\n",
        "  sample = df_Age3['Purchase'].sample(sample_size)\n",
        "  sample_mean.append(round(sample.mean(),2))\n",
        "\n",
        "plt.figure(figsize=(10,5))\n",
        "plt.subplot(1,1,1)\n",
        "sns.histplot(sample_mean,bins=20)\n",
        "plt.xlabel(\"SAMPLE MEAN\")\n",
        "plt.ylabel(\"OBSERVATION COUNT\")\n",
        "plt.show()\n",
        "\n",
        "## 95 percent confidence interval\n",
        "\n",
        "left = round(np.percentile(sample_mean,2.5))\n",
        "right = round(np.percentile(sample_mean,97.5))\n",
        "\n",
        "print(\"95% confident interval for Age(36-45) Customer is: \",[left, right])"
      ],
      "metadata": {
        "colab": {
          "base_uri": "https://localhost:8080/",
          "height": 351
        },
        "id": "ntRhM_RnNhBQ",
        "outputId": "c57ce017-1978-4d3c-816f-02069096369b"
      },
      "execution_count": null,
      "outputs": [
        {
          "output_type": "display_data",
          "data": {
            "text/plain": [
              "<Figure size 720x360 with 1 Axes>"
            ],
            "image/png": "[encoded data removed]"
          },
          "metadata": {
            "needs_background": "light"
          }
        },
        {
          "output_type": "stream",
          "name": "stdout",
          "text": [
            "95% confident interval for Age(36-45) Customer is:  [8390, 10310]\n"
          ]
        }
      ]
    },
    {
      "cell_type": "code",
      "source": [
        "df_Age4 = df.loc[df['Age']==4,['Purchase']]\n",
        "df_Age4=df_Age4.reset_index(drop=True)\n",
        "sample_size = 100\n",
        "total_sample =3000\n",
        "sample_mean = []\n",
        "for i in range(total_sample):\n",
        "  sample = df_Age4['Purchase'].sample(sample_size)\n",
        "  sample_mean.append(round(sample.mean(),2))\n",
        "\n",
        "plt.figure(figsize=(10,5))\n",
        "plt.subplot(1,1,1)\n",
        "sns.histplot(sample_mean,bins=20)\n",
        "plt.xlabel(\"SAMPLE MEAN\")\n",
        "plt.ylabel(\"OBSERVATION COUNT\")\n",
        "plt.show()\n",
        "\n",
        "## 95 percent confidence interval\n",
        "\n",
        "left = round(np.percentile(sample_mean,2.5))\n",
        "right = round(np.percentile(sample_mean,97.5))\n",
        "\n",
        "print(\"95% confident interval for Age(46-50) Customer is: \",[left, right])"
      ],
      "metadata": {
        "colab": {
          "base_uri": "https://localhost:8080/",
          "height": 351
        },
        "id": "DYYW8EKTN8Mm",
        "outputId": "33bdf7c7-f854-49a6-9dcb-f314785e0717"
      },
      "execution_count": null,
      "outputs": [
        {
          "output_type": "display_data",
          "data": {
            "text/plain": [
              "<Figure size 720x360 with 1 Axes>"
            ],
            "image/png": "[encoded data removed]"
          },
          "metadata": {
            "needs_background": "light"
          }
        },
        {
          "output_type": "stream",
          "name": "stdout",
          "text": [
            "95% confident interval for Age(46-50) Customer is:  [8248, 10187]\n"
          ]
        }
      ]
    },
    {
      "cell_type": "code",
      "source": [
        "df_Age5 = df.loc[df['Age']==5,['Purchase']]\n",
        "df_Age5 = df_Age5.reset_index(drop=True)\n",
        "sample_size = 100\n",
        "total_sample =3000\n",
        "sample_mean = []\n",
        "for i in range(total_sample):\n",
        "  sample = df_Age5['Purchase'].sample(sample_size)\n",
        "  sample_mean.append(round(sample.mean(),2))\n",
        "\n",
        "plt.figure(figsize=(10,5))\n",
        "plt.subplot(1,1,1)\n",
        "sns.histplot(sample_mean,bins=20)\n",
        "plt.xlabel(\"SAMPLE MEAN\")\n",
        "plt.ylabel(\"OBSERVATION COUNT\")\n",
        "plt.show()\n",
        "\n",
        "## 95 percent confidence interval\n",
        "\n",
        "left = round(np.percentile(sample_mean,2.5))\n",
        "right = round(np.percentile(sample_mean,97.5))\n",
        "\n",
        "print(\"95% confident interval for Age(51-55) Customer is: \",[left, right])"
      ],
      "metadata": {
        "colab": {
          "base_uri": "https://localhost:8080/",
          "height": 351
        },
        "id": "lDDLb9GTOTmE",
        "outputId": "3d60d771-fd41-47b7-fb68-fbe264327367"
      },
      "execution_count": null,
      "outputs": [
        {
          "output_type": "display_data",
          "data": {
            "text/plain": [
              "<Figure size 720x360 with 1 Axes>"
            ],
            "image/png": "[encoded data removed]"
          },
          "metadata": {
            "needs_background": "light"
          }
        },
        {
          "output_type": "stream",
          "name": "stdout",
          "text": [
            "95% confident interval for Age(51-55) Customer is:  [8562, 10547]\n"
          ]
        }
      ]
    },
    {
      "cell_type": "code",
      "source": [
        "df_Age6 = df.loc[df['Age']==6,['Purchase']]\n",
        "df_Age6=df_Age6.reset_index(drop=True)\n",
        "sample_size = 100\n",
        "total_sample =3000\n",
        "sample_mean = []\n",
        "for i in range(total_sample):\n",
        "  sample = df_Age6['Purchase'].sample(sample_size)\n",
        "  sample_mean.append(round(sample.mean(),2))\n",
        "\n",
        "plt.figure(figsize=(10,5))\n",
        "plt.subplot(1,1,1)\n",
        "sns.histplot(sample_mean,bins=20)\n",
        "plt.xlabel(\"SAMPLE MEAN\")\n",
        "plt.ylabel(\"OBSERVATION COUNT\")\n",
        "plt.show()\n",
        "\n",
        "## 95 percent confidence interval\n",
        "\n",
        "left = round(np.percentile(sample_mean,2.5))\n",
        "right = round(np.percentile(sample_mean,97.5))\n",
        "\n",
        "print(\"95% confident interval for Age(55+) Customer is: \",[left, right])"
      ],
      "metadata": {
        "colab": {
          "base_uri": "https://localhost:8080/",
          "height": 351
        },
        "id": "ho5roCvTOUGV",
        "outputId": "0385239c-8c18-48a6-9fac-b2b6d4598c48"
      },
      "execution_count": null,
      "outputs": [
        {
          "output_type": "display_data",
          "data": {
            "text/plain": [
              "<Figure size 720x360 with 1 Axes>"
            ],
            "image/png": "[encoded data removed]"
          },
          "metadata": {
            "needs_background": "light"
          }
        },
        {
          "output_type": "stream",
          "name": "stdout",
          "text": [
            "95% confident interval for Age(55+) Customer is:  [8387, 10355]\n"
          ]
        }
      ]
    },
    {
      "cell_type": "markdown",
      "source": [
        "95% confident interval for Age(0-17) Customer is:  [7945, 9956]\n",
        "\n",
        "95% confident interval for Age(18-25) Customer is:  [8188, 10168]\n",
        "\n",
        "95% confident interval for Age(26-35) Customer is:  [8284, 10245]\n",
        "\n",
        "95% confident interval for Age(36-45) Customer is:  [8389, 10340]\n",
        "\n",
        "95% confident interval for Age(46-50) Customer is:  [8237, 10182]\n",
        "\n",
        "95% confident interval for Age(55+) Customer is:  [8365, 10271]\n",
        "\n",
        "\n",
        "\n",
        "*   Leaving the age bracket 0-17 years all the age group purchase habit has no  statistical significant looking at the 95% confidence interval.\n",
        "\n",
        "\n",
        "\n",
        "\n",
        "\n",
        "\n"
      ],
      "metadata": {
        "id": "U9Q4g_sQR-mF"
      }
    },
    {
      "cell_type": "markdown",
      "source": [
        "### Recommendation\n",
        "\n",
        "### Male customers buy more purchase compare to female customers.\n",
        "### Increase the sale for female customers.Company can give discount to female customers.\n",
        "### City C purchase median value is more comparable to city A and city B and outlier is also very less. We can try to find the tactics of marketing team from the city and apply in other cities.\n"
      ],
      "metadata": {
        "id": "Dwk9Zk-JcNvv"
      }
    }
  ]
}